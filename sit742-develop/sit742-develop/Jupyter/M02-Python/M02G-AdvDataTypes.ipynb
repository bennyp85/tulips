{
  "cells": [
    {
      "cell_type": "markdown",
      "metadata": {
        "id": "pOrSBEmKBmxF"
      },
      "source": [
        "![Cloud-First](https://github.com/tulip-lab/sit742/blob/develop/Jupyter/image/CloudFirst.png?raw=1)\n",
        "\n",
        "\n",
        "\n",
        "# SIT742: Modern Data Science\n",
        "**(Module: Python Foundations for Big Data)**\n",
        "\n",
        "---\n",
        "- Materials in this module include resources collected from various open-source online repositories.\n",
        "- You are free to use, change and distribute this package.\n",
        "- If you found any issue/bug for this document, please submit an issue at [tulip-lab/sit742](https://github.com/tulip-lab/sit742/issues)\n",
        "\n",
        "\n",
        "Prepared by **SIT742 Teaching Team**\n",
        "\n",
        "---\n",
        "\n",
        "\n",
        "## Session 2G: Advanced Data Types\n",
        "\n",
        "we will learn about advanced data types in addition to the strings and number learnt before. We will examine lists, tuples and dictionaries used for a collection of related data."
      ]
    },
    {
      "cell_type": "markdown",
      "metadata": {
        "id": "8rxG_XNwBmxI"
      },
      "source": [
        "## Table of Content\n",
        "\n",
        "\n",
        "1 [List](#cell_list)\n",
        "\n",
        "2 [Tuple](#cell_tuple)\n",
        "\n",
        "3 [Dictionary](#cell_dict)\n",
        "\n"
      ]
    },
    {
      "cell_type": "markdown",
      "metadata": {
        "id": "4Xu7rvCrBmyp"
      },
      "source": [
        "<a id = \"cell_list\"></a>"
      ]
    },
    {
      "cell_type": "markdown",
      "metadata": {
        "id": "ZXxkKq8eBmyq"
      },
      "source": [
        "\n",
        "## 1 List\n",
        "\n",
        "**List is a sequence**\n",
        "\n",
        "Like a string, a **list** is a sequence of values. The values in a list can be any type. We call the values **items** of the list. To create a list, enclose the items in square brackets.\n",
        "\n",
        "For example,\n",
        "               "
      ]
    },
    {
      "cell_type": "code",
      "execution_count": null,
      "metadata": {
        "id": "E7e8UuwGBmyq"
      },
      "outputs": [],
      "source": [
        "shoplist = ['apple', 'mango', 'carrot', 'banana']\n",
        "l = [10, 20, 30, 40]\n",
        "empty = [ ]   # Initialize an empty list"
      ]
    },
    {
      "cell_type": "code",
      "execution_count": null,
      "metadata": {
        "id": "aY2iD5kNBmys"
      },
      "outputs": [],
      "source": [
        "shoplist"
      ]
    },
    {
      "cell_type": "code",
      "execution_count": null,
      "metadata": {
        "id": "KE779JH2Bmyu"
      },
      "outputs": [],
      "source": [
        "l"
      ]
    },
    {
      "cell_type": "code",
      "execution_count": null,
      "metadata": {
        "id": "_IpjFmd4Bmyx"
      },
      "outputs": [],
      "source": [
        "empty"
      ]
    },
    {
      "cell_type": "code",
      "execution_count": null,
      "metadata": {
        "id": "XBrjhj1iBmyz"
      },
      "outputs": [],
      "source": [
        "shoplist"
      ]
    },
    {
      "cell_type": "markdown",
      "metadata": {
        "id": "j7ruHjt3Bmy0"
      },
      "source": [
        "The elements of a list do not have to be the same type. An another list can also be nested inside a list.\n",
        "\n",
        "To access the element of a list, use the bracket operator to obtain the value available at the index. Note that the indices of list start at $0$. You can also use negative value as index, if you counts from right. For example, the negative index of last item is $-1$. Try the following examples:"
      ]
    },
    {
      "cell_type": "code",
      "execution_count": null,
      "metadata": {
        "id": "W9akILf7Bmy1"
      },
      "outputs": [],
      "source": [
        "l = [10, 20, 30, 40]"
      ]
    },
    {
      "cell_type": "code",
      "execution_count": null,
      "metadata": {
        "id": "Z5zPJWxpBmy3"
      },
      "outputs": [],
      "source": [
        "l[2]"
      ]
    },
    {
      "cell_type": "code",
      "execution_count": null,
      "metadata": {
        "id": "bNH-O27pBmy4"
      },
      "outputs": [],
      "source": [
        "l[-1]"
      ]
    },
    {
      "cell_type": "code",
      "execution_count": null,
      "metadata": {
        "id": "NtKexic5Bmy7"
      },
      "outputs": [],
      "source": [
        "l[-3]"
      ]
    },
    {
      "cell_type": "markdown",
      "metadata": {
        "id": "Wpr1v6zrBmy9"
      },
      "source": [
        "Here is an example of nested list:"
      ]
    },
    {
      "cell_type": "code",
      "execution_count": null,
      "metadata": {
        "id": "r0xGwqeJBmy-"
      },
      "outputs": [],
      "source": [
        "l = ['apple', 2.0, 5, [10, 20]]"
      ]
    },
    {
      "cell_type": "code",
      "execution_count": null,
      "metadata": {
        "id": "SP-ntHwtBmy_"
      },
      "outputs": [],
      "source": [
        "l[1]"
      ]
    },
    {
      "cell_type": "code",
      "execution_count": null,
      "metadata": {
        "id": "WQsbJkhABmzC"
      },
      "outputs": [],
      "source": [
        "l[3]"
      ]
    },
    {
      "cell_type": "code",
      "execution_count": null,
      "metadata": {
        "id": "qDryScoCBmzD"
      },
      "outputs": [],
      "source": [
        "l[3][1]\n"
      ]
    },
    {
      "cell_type": "markdown",
      "metadata": {
        "id": "z-zzr7ICBmzF"
      },
      "source": [
        "Unlike strings, lists are mutable, which means they can be altered. We use bracket on the left side of an assignment to assign a value to a list item."
      ]
    },
    {
      "cell_type": "code",
      "execution_count": null,
      "metadata": {
        "id": "rX_ghZH_BmzF"
      },
      "outputs": [],
      "source": [
        "l = [10, 20, 30, 40]\n",
        "l[1] = 200"
      ]
    },
    {
      "cell_type": "code",
      "execution_count": null,
      "metadata": {
        "id": "WaAO_Ir2BmzH"
      },
      "outputs": [],
      "source": [
        "l"
      ]
    },
    {
      "cell_type": "markdown",
      "metadata": {
        "id": "bu8DphbXBmzI"
      },
      "source": [
        "**List operation**\n",
        "\n",
        " **In** is used to perform membership operation.\n",
        " The result of expression equals to **True** if a value exists in the list,\n",
        " and equals to **False** otherwise.\n"
      ]
    },
    {
      "cell_type": "code",
      "execution_count": null,
      "metadata": {
        "id": "XbCUkFPFBmzJ"
      },
      "outputs": [],
      "source": [
        "shoplist = ['apple', 'mango', 'carrot', 'banana']"
      ]
    },
    {
      "cell_type": "code",
      "execution_count": null,
      "metadata": {
        "id": "FLXYQQo9BmzK"
      },
      "outputs": [],
      "source": [
        "'apple' in shoplist"
      ]
    },
    {
      "cell_type": "code",
      "execution_count": null,
      "metadata": {
        "id": "IjdYHK1bBmzN"
      },
      "outputs": [],
      "source": [
        "'rice' in shoplist"
      ]
    },
    {
      "cell_type": "markdown",
      "metadata": {
        "id": "UNLrFdonBmzO"
      },
      "source": [
        "Similarly, **In** operator also applies to **string** type. Here are some examples:\n"
      ]
    },
    {
      "cell_type": "code",
      "execution_count": null,
      "metadata": {
        "id": "GsfGjlPyBmzP"
      },
      "outputs": [],
      "source": [
        "'a' in 'banana'"
      ]
    },
    {
      "cell_type": "code",
      "execution_count": null,
      "metadata": {
        "id": "GBe4RSgOBmzQ"
      },
      "outputs": [],
      "source": [
        "'seed' in 'banana'    # Test if 'seed' is a substring of 'banana'"
      ]
    },
    {
      "cell_type": "markdown",
      "metadata": {
        "id": "HhQjXO2lBmzR"
      },
      "source": [
        "'**+**' is  used for concatenation operation "
      ]
    },
    {
      "cell_type": "code",
      "execution_count": null,
      "metadata": {
        "id": "X6RqwGxQBmzT"
      },
      "outputs": [],
      "source": [
        "[10, 20, 30, 40 ] + [50, 60]"
      ]
    },
    {
      "cell_type": "markdown",
      "metadata": {},
      "source": [
        "'**\\***' is used for to repeat the elements in a list a given number of times."
      ]
    },
    {
      "cell_type": "markdown",
      "metadata": {
        "id": "F6tP9GVhBmzU"
      },
      "source": [
        " [50, 60]*3\n",
        "\n",
        "     "
      ]
    },
    {
      "cell_type": "markdown",
      "metadata": {
        "id": "Nw0vR9K_BmzV"
      },
      "source": [
        "** List slices **\n",
        "Slicing operation allows to retrieve a slice of of the list. i.e. a part of the sequence. The sliding operation uses square brackets to enclose an optional pair of numbers separated by a colon. Again, to count the position of items from left(first item), start from $0$. If you count the position from right(last item), start from $-1$."
      ]
    },
    {
      "cell_type": "code",
      "execution_count": null,
      "metadata": {
        "id": "GqB8ElRVBmzV"
      },
      "outputs": [],
      "source": [
        "l = [1, 2, 3, 4]"
      ]
    },
    {
      "cell_type": "code",
      "execution_count": null,
      "metadata": {
        "id": "qnnI1lXSBmzW"
      },
      "outputs": [],
      "source": [
        "l[1:3]     # From position 1 to position 3 (excluded)"
      ]
    },
    {
      "cell_type": "code",
      "execution_count": null,
      "metadata": {
        "id": "T1T4ljvqBmzY"
      },
      "outputs": [],
      "source": [
        "l[:2]     # From the beginning to position 2 (excluded)"
      ]
    },
    {
      "cell_type": "code",
      "execution_count": null,
      "metadata": {
        "id": "039r1EDMBmza"
      },
      "outputs": [],
      "source": [
        "l[-2:]    # From the second right to the end of the list"
      ]
    },
    {
      "cell_type": "markdown",
      "metadata": {
        "id": "x9vjy8R6Bmzb"
      },
      "source": [
        "If you omit both the first and the second indices, the slice is a copy of the whole list."
      ]
    },
    {
      "cell_type": "code",
      "execution_count": null,
      "metadata": {
        "id": "e6U4CrvhBmzc"
      },
      "outputs": [],
      "source": [
        "l[:]"
      ]
    },
    {
      "cell_type": "markdown",
      "metadata": {
        "id": "0wMQJlYIBmzf"
      },
      "source": [
        "Since lists are mutable, above expression is often useful to make a copy before modifying original list."
      ]
    },
    {
      "cell_type": "code",
      "execution_count": null,
      "metadata": {
        "id": "BA5iYESzBmzh"
      },
      "outputs": [],
      "source": [
        "l = [1, 2, 3, 4]\n",
        "l_org = l[:]\n",
        "l[0] = 8"
      ]
    },
    {
      "cell_type": "code",
      "execution_count": null,
      "metadata": {
        "id": "qTMISAbJBmzn"
      },
      "outputs": [],
      "source": [
        "l"
      ]
    },
    {
      "cell_type": "code",
      "execution_count": null,
      "metadata": {
        "id": "Smf9tzSSBmzp"
      },
      "outputs": [],
      "source": [
        "l_org  # the original list is unchanged\n"
      ]
    },
    {
      "cell_type": "markdown",
      "metadata": {
        "id": "2h-9tDg3Bmzq"
      },
      "source": [
        "**List methods**\n",
        "\n",
        "The methods most often applied to a list include:\n",
        "- append()\n",
        "- len()\n",
        "- sort()\n",
        "- split()\n",
        "- join()"
      ]
    },
    {
      "cell_type": "markdown",
      "metadata": {
        "id": "qxDlX5huBmzr"
      },
      "source": [
        "**append()** method adds a new element to the end of a list."
      ]
    },
    {
      "cell_type": "code",
      "execution_count": null,
      "metadata": {
        "id": "UUs8PmOiBmzs"
      },
      "outputs": [],
      "source": [
        "l= [1, 2, 3, 4]\n"
      ]
    },
    {
      "cell_type": "code",
      "execution_count": null,
      "metadata": {
        "id": "sr7rr13xBmzt"
      },
      "outputs": [],
      "source": [
        "l"
      ]
    },
    {
      "cell_type": "code",
      "execution_count": null,
      "metadata": {
        "id": "3BhyF427Bmzy"
      },
      "outputs": [],
      "source": [
        "l.append(5)\n",
        "l.append([6, 7])  #list [6, 7] is nested in list l"
      ]
    },
    {
      "cell_type": "code",
      "execution_count": null,
      "metadata": {
        "id": "kHh85_Y6Bmzz"
      },
      "outputs": [],
      "source": [
        "l"
      ]
    },
    {
      "cell_type": "markdown",
      "metadata": {
        "id": "XiLgDfWwBmz1"
      },
      "source": [
        " **len()** method returns the number of items of a list."
      ]
    },
    {
      "cell_type": "code",
      "execution_count": null,
      "metadata": {
        "id": "5wRXT4WcBmz1"
      },
      "outputs": [],
      "source": [
        "l = [1, 2, 3, 4, 5]\n",
        "len(l)"
      ]
    },
    {
      "cell_type": "code",
      "execution_count": null,
      "metadata": {
        "id": "LhWFPL_zBmz2"
      },
      "outputs": [],
      "source": [
        "# A list nested in another list is counted as a single item\n",
        "l = [1, 2, 3, 4, 5, [6, 7]]\n",
        "len(l)"
      ]
    },
    {
      "cell_type": "markdown",
      "metadata": {
        "id": "xvuQnOPRBmz3"
      },
      "source": [
        " **sort()** arranges the elements of the list from low to high."
      ]
    },
    {
      "cell_type": "code",
      "execution_count": null,
      "metadata": {
        "id": "v2Me8qqfBmz4"
      },
      "outputs": [],
      "source": [
        "shoplist = ['apple', 'mango', 'carrot', 'banana']\n",
        "shoplist.sort()"
      ]
    },
    {
      "cell_type": "code",
      "execution_count": null,
      "metadata": {
        "id": "wNW-D9ifBmz6"
      },
      "outputs": [],
      "source": [
        "shoplist"
      ]
    },
    {
      "cell_type": "markdown",
      "metadata": {
        "id": "YIPqgrbDBmz8"
      },
      "source": [
        "\n",
        " It is worth noted that **sort()** method modifies the list in place, and does not return any value. Please try the following:"
      ]
    },
    {
      "cell_type": "code",
      "execution_count": null,
      "metadata": {
        "id": "JauCHCv_Bmz8"
      },
      "outputs": [],
      "source": [
        "shoplist = ['apple', 'mango', 'carrot', 'banana']\n",
        "shoplist_sorted = shoplist.sort()"
      ]
    },
    {
      "cell_type": "code",
      "execution_count": null,
      "metadata": {
        "id": "k1eeAAaxBmz_"
      },
      "outputs": [],
      "source": [
        "shoplist_sorted    # No value is returned"
      ]
    },
    {
      "cell_type": "markdown",
      "metadata": {
        "id": "IxkXo9AZBm0A"
      },
      "source": [
        "\n",
        "There is an alternative way of sorting a list. The build-in function **sorted()** returns a sorted list, and keeps the original one unchanged."
      ]
    },
    {
      "cell_type": "code",
      "execution_count": null,
      "metadata": {
        "id": "SiS31NXcBm0A"
      },
      "outputs": [],
      "source": [
        "shoplist = ['apple', 'mango', 'carrot', 'banana']\n",
        "shoplist_sorted = sorted(shoplist)          #sorted() function return a new list"
      ]
    },
    {
      "cell_type": "code",
      "execution_count": null,
      "metadata": {
        "id": "K_eMR23aBm0F"
      },
      "outputs": [],
      "source": [
        "shoplist_sorted"
      ]
    },
    {
      "cell_type": "code",
      "execution_count": null,
      "metadata": {
        "id": "5c1BtFjFBm0G"
      },
      "outputs": [],
      "source": [
        "shoplist"
      ]
    },
    {
      "cell_type": "markdown",
      "metadata": {
        "id": "gmabEBPqBm0H"
      },
      "source": [
        "There are two frequently-used string methods that convert between lists and strings:\n",
        "\n",
        "First, **split()** methods is used to break a string into words:"
      ]
    },
    {
      "cell_type": "code",
      "execution_count": null,
      "metadata": {
        "id": "NToLD-lOBm0I"
      },
      "outputs": [],
      "source": [
        "s = 'I love apples'\n",
        "s.split(' ')"
      ]
    },
    {
      "cell_type": "code",
      "execution_count": null,
      "metadata": {
        "id": "1uH4tlgdBm0J"
      },
      "outputs": [],
      "source": [
        "s = 'spam-spam-spam'\n",
        "# A delimiter '-' is specified here. It is used as word boundary\n",
        "s.split('-')"
      ]
    },
    {
      "cell_type": "markdown",
      "metadata": {
        "id": "XUuTMK7tBm0K"
      },
      "source": [
        "Second, **join()** is the inverse of **split**. It takes a list of strings and concatenates the elements."
      ]
    },
    {
      "cell_type": "code",
      "execution_count": null,
      "metadata": {
        "id": "HKZrUhUzBm0K"
      },
      "outputs": [],
      "source": [
        "l = ['I', 'love', 'apples']\n",
        "s = ' '.join(l)\n",
        "s"
      ]
    },
    {
      "cell_type": "markdown",
      "metadata": {
        "id": "qFbGRFyoBm0M"
      },
      "source": [
        "How it works:\n",
        "\n",
        "Since **join** is a string method, you have to invoke it on the *delimiter*. In this case, the delimiter is a space character. So **' '.join()** puts a space between words. The list **l** is passed to **join()** as parameter.\n",
        "\n",
        "For more information on list methods, type \"help(list)\" in your notebook."
      ]
    },
    {
      "cell_type": "markdown",
      "metadata": {
        "id": "dOaAysQyBm0M"
      },
      "source": [
        "**Traverse a list**\n",
        "\n",
        "The most common way to traverse the items of a list is with a **for** loop. Try the following code:"
      ]
    },
    {
      "cell_type": "code",
      "execution_count": null,
      "metadata": {
        "id": "2pUz_BuABm0M"
      },
      "outputs": [],
      "source": [
        "shoplist = ['apple', 'mango', 'carrot', 'banana']\n",
        "for item in shoplist:\n",
        "    print(item)"
      ]
    },
    {
      "cell_type": "markdown",
      "metadata": {
        "id": "BdoviXGwBm0N"
      },
      "source": [
        "This works well if you only need to read the items of the list. However, you will need to use indices if you want to update the elements. In this case, you need to combine the function **range()** and **len()**.  "
      ]
    },
    {
      "cell_type": "code",
      "execution_count": null,
      "metadata": {
        "id": "Hw-LhzXhBm0P"
      },
      "outputs": [],
      "source": [
        "l = [2, 3, 5, 7]\n",
        "\n",
        "for i in range(len(l)):\n",
        "       l[i] = l[i] * 2\n",
        "\n",
        "print(l)"
      ]
    },
    {
      "cell_type": "markdown",
      "metadata": {
        "id": "6i0u44sWBm0Q"
      },
      "source": [
        "How it works:\n",
        "\n",
        "**len()** returns the number of items in the list, while **range(n)** returns a list from 0 to n - 1. By combining function **len()** and **range()**, **i** gets the index of the next element in each pass through the loop. The assignment statement then uses **i** to perform the operation."
      ]
    },
    {
      "cell_type": "markdown",
      "metadata": {
        "id": "PQIrW0NjBm0Q"
      },
      "source": [
        "<a id = \"cell_tuple\"></a>"
      ]
    },
    {
      "cell_type": "markdown",
      "metadata": {
        "id": "kBsd3dhuBm0Q"
      },
      "source": [
        "### 3.2 Tuple\n",
        "\n",
        "**Tuple are immutable **\n",
        "\n",
        "A **tuple** is also a sequence of values, and can be any type. Tuples and lists are very similar. The important difference is that tuples are immutable, which means they can not be changed.\n",
        "\n",
        "Tuples is typically used to group and organizing data into a single compound value.  For example,"
      ]
    },
    {
      "cell_type": "code",
      "execution_count": null,
      "metadata": {
        "id": "wyr771UWBm0R"
      },
      "outputs": [],
      "source": [
        "year_born =  ('David Hilton', 1995)\n",
        "year_born"
      ]
    },
    {
      "cell_type": "markdown",
      "metadata": {
        "id": "jS2uoyGvBm0S"
      },
      "source": [
        "To define a tuple, we use a list of values separated by comma.\n",
        "Although it is not necessary, it is common to enclose tuples in parentheses.\n",
        "\n",
        "Most list operators also work on tuples.\n",
        "The bracket operator indexes an item of tuples, and the slice operator works in similar way.\n",
        "\n",
        "Here is how to define a tuple:"
      ]
    },
    {
      "cell_type": "code",
      "execution_count": null,
      "metadata": {
        "id": "sSoZ9rIGBm0S"
      },
      "outputs": [],
      "source": [
        "t  = ( ) # Empty tuple\n",
        "t"
      ]
    },
    {
      "cell_type": "code",
      "execution_count": null,
      "metadata": {
        "id": "YFukci9YBm0T"
      },
      "outputs": [],
      "source": [
        "t = (1)\n",
        "type(t)  # Its type is int, since no comma is following"
      ]
    },
    {
      "cell_type": "code",
      "execution_count": null,
      "metadata": {
        "id": "DCYLnFmxBm0U"
      },
      "outputs": [],
      "source": [
        "t = (1,)  # One item tuple; the item needs to be followed by a comma\n",
        "type(t)"
      ]
    },
    {
      "cell_type": "markdown",
      "metadata": {
        "id": "JL76QtuYBm0V"
      },
      "source": [
        "Here is how to access elements of a tuple:"
      ]
    },
    {
      "cell_type": "code",
      "execution_count": null,
      "metadata": {
        "id": "Tz1NCxjyBm0W"
      },
      "outputs": [],
      "source": [
        "t = ('a', 'b', 'c', 'd')"
      ]
    },
    {
      "cell_type": "code",
      "execution_count": null,
      "metadata": {
        "id": "2iTzh6wwBm0Y"
      },
      "outputs": [],
      "source": [
        "t[0]"
      ]
    },
    {
      "cell_type": "code",
      "execution_count": null,
      "metadata": {
        "id": "PlIiJg52Bm0Z"
      },
      "outputs": [],
      "source": [
        "t[1:3]"
      ]
    },
    {
      "cell_type": "markdown",
      "metadata": {
        "id": "35hOHu21Bm0a"
      },
      "source": [
        "But if you try to modify the elements of the tuple, you get an error."
      ]
    },
    {
      "cell_type": "code",
      "execution_count": null,
      "metadata": {
        "id": "_r_paxZnBm0b"
      },
      "outputs": [],
      "source": [
        "t = ('a', 'b', 'c', 'd')\n",
        "t[1] = 'B'"
      ]
    },
    {
      "cell_type": "markdown",
      "metadata": {
        "id": "Posmxo-aBm0c"
      },
      "source": [
        "### Tuple assignment\n",
        "\n",
        "Tuple assignment allows a tuple of variables on the left of an assignment to be assigned values from  a tuple on the right of the assignment.\n",
        "(We already saw this type of statements in the previous prac)\n",
        "\n",
        "For example,\n"
      ]
    },
    {
      "cell_type": "code",
      "execution_count": null,
      "metadata": {
        "id": "ChvTjx6qBm0d"
      },
      "outputs": [],
      "source": [
        "t = ('David', '0233', 78)\n",
        "(name, id, score) = t"
      ]
    },
    {
      "cell_type": "code",
      "execution_count": null,
      "metadata": {
        "id": "-WDeVp8MBm0e"
      },
      "outputs": [],
      "source": [
        "name"
      ]
    },
    {
      "cell_type": "code",
      "execution_count": null,
      "metadata": {
        "id": "L4Ey2gDYBm0g"
      },
      "outputs": [],
      "source": [
        "id"
      ]
    },
    {
      "cell_type": "code",
      "execution_count": null,
      "metadata": {
        "id": "v6i5qFp7Bm0h"
      },
      "outputs": [],
      "source": [
        "score"
      ]
    },
    {
      "cell_type": "markdown",
      "metadata": {
        "id": "aYAZYDZ3Bm0i"
      },
      "source": [
        "Naturally, the number of variables on the left and the number of values on the right have to be the same.Otherwise, you will have a system error."
      ]
    },
    {
      "cell_type": "code",
      "execution_count": null,
      "metadata": {
        "id": "CZWKRkeZBm0j"
      },
      "outputs": [],
      "source": [
        "(a, b, c, d) = (1, 2, 3)\n"
      ]
    },
    {
      "cell_type": "markdown",
      "metadata": {
        "id": "svAgKRIMBm0l"
      },
      "source": [
        "### Lists and tuples\n",
        "\n",
        "It is common to have a list of tuples. For loop can be used to traverse the data.  For example,"
      ]
    },
    {
      "cell_type": "code",
      "execution_count": null,
      "metadata": {
        "id": "erQ7rITYBm0l"
      },
      "outputs": [],
      "source": [
        "t = [('David', 90), ('John', 88), ('James', 70)]\n",
        "\n",
        "for (name, score) in t:\n",
        "       print(name, score)"
      ]
    },
    {
      "cell_type": "markdown",
      "metadata": {
        "id": "0N9Ozh__Bm0m"
      },
      "source": [
        "<a id = \"cell_dict\"></a>"
      ]
    },
    {
      "cell_type": "markdown",
      "metadata": {
        "id": "P7Te1xa1Bm0o"
      },
      "source": [
        "### 3 Dictionary\n",
        "\n",
        "A **dictionary** is like an address-book where you can find the address or contact details of a person by knowing only his/her name. The way of achieving this is to associate **keys**(names) with **values**(details). Note that the key in a dictionary must be unique. Otherwise we are not able to locate correct information through the key.\n",
        "\n",
        "Also worth noted is that we can only use immutable objects(strings, tuples) for the keys, but we can use either immutable or mutable objects for the values of the dictionary. This means  we can use either a string, a tuple or a list  for dictionary values.\n",
        "\n",
        "The following example defines a dictionary:"
      ]
    },
    {
      "cell_type": "code",
      "execution_count": null,
      "metadata": {
        "id": "uclLe92SBm0o"
      },
      "outputs": [],
      "source": [
        "dict = {'David': 70, 'John': 60, 'Mike': 85}\n",
        "dict['David']\n",
        "dict['Anne'] = 92  # add an new item in the dictionary\n",
        "dict"
      ]
    },
    {
      "cell_type": "markdown",
      "metadata": {
        "id": "oLay_eiFBm0q"
      },
      "source": [
        "**Traverse a dictionary**\n",
        "\n",
        "The key-value pairs in a dictionary are **not** ordered in any manner. The following example uses **for** loop to traversal a dictionary. Notice that the keys are in no particular order."
      ]
    },
    {
      "cell_type": "code",
      "execution_count": null,
      "metadata": {
        "id": "QKfMs36lBm0t"
      },
      "outputs": [],
      "source": [
        "dict = {'David': 70, 'John': 60, 'Amy': 85}\n",
        "\n",
        "for key in dict:\n",
        "    print(key, dict[key])"
      ]
    },
    {
      "cell_type": "markdown",
      "metadata": {
        "id": "vLKSyg5OBm0u"
      },
      "source": [
        "However, we can sort the keys of dictionary before using it if necessary. The following example sorts the keys and stored the result in a list **sortedKey**. The **for** loop then iterates through list **sortedKey**. The items in the dictionary can then be accessed via the names in alphabetical order. Note that dictionary's **keys()** method is used to return a list of all the available keys in the dictionary."
      ]
    },
    {
      "cell_type": "code",
      "execution_count": null,
      "metadata": {
        "id": "hLZi1CgdBm0u"
      },
      "outputs": [],
      "source": [
        "dict = {'David': 70, 'John': 60, 'Amy': 85}\n",
        "sortedKeys = sorted(dict.keys())\n",
        "\n",
        "for key in sortedKeys:\n",
        "    print(key, dict[key])\n"
      ]
    }
  ],
  "metadata": {
    "colab": {
      "collapsed_sections": [
        "kBsd3dhuBm0Q",
        "Posmxo-aBm0c",
        "svAgKRIMBm0l",
        "P7Te1xa1Bm0o"
      ],
      "provenance": [],
      "toc_visible": true
    },
    "kernelspec": {
      "display_name": "Python 3",
      "language": "python",
      "name": "python3"
    },
    "language_info": {
      "codemirror_mode": {
        "name": "ipython",
        "version": 3
      },
      "file_extension": ".py",
      "mimetype": "text/x-python",
      "name": "python",
      "nbconvert_exporter": "python",
      "pygments_lexer": "ipython3",
      "version": "3.6.4"
    }
  },
  "nbformat": 4,
  "nbformat_minor": 0
}
