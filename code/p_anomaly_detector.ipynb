{
 "cells": [
  {
   "cell_type": "code",
   "execution_count": 10,
   "metadata": {},
   "outputs": [
    {
     "name": "stdout",
     "output_type": "stream",
     "text": [
      "First rows of the numeric columns:\n",
      "    mpg  cylinders  displacement  horsepower  weight\n",
      "0   NaN        NaN           NaN         NaN     NaN\n",
      "1  21.0        6.0         160.0       110.0   2.620\n",
      "2  21.0        6.0         160.0       110.0   2.875\n",
      "3  22.8        4.0         108.0        93.0   2.320\n",
      "4  21.4        6.0         258.0       110.0   3.215\n",
      "Pearson correlation matrix:\n",
      "                   mpg  cylinders  displacement  horsepower    weight\n",
      "mpg           1.000000  -0.852162     -0.847551   -0.776168 -0.867659\n",
      "cylinders    -0.852162   1.000000      0.902033    0.832447  0.782496\n",
      "displacement -0.847551   0.902033      1.000000    0.790949  0.887980\n",
      "horsepower   -0.776168   0.832447      0.790949    1.000000  0.658748\n",
      "weight       -0.867659   0.782496      0.887980    0.658748  1.000000\n",
      "Highly correlated feature pairs with Pearson correlation above the threshold:\n",
      "              cylinders  displacement  horsepower    weight\n",
      "cylinders           NaN      0.902033    0.832447  0.782496\n",
      "displacement   0.902033           NaN    0.790949  0.887980\n",
      "horsepower     0.832447      0.790949         NaN  0.658748\n",
      "weight         0.782496      0.887980    0.658748       NaN\n"
     ]
    }
   ],
   "source": [
    "import pandas as pd\n",
    "\n",
    "# Load the dataset\n",
    "data = pd.read_csv(\n",
    "    'C:/Users/benja/OneDrive - Deakin University/tulip lab/flip00-develop/flip00-develop/Data/Data1/Data1/Auto.csv',\n",
    "    header=None,\n",
    "    names=['name', 'mpg', 'cylinders', 'displacement', 'horsepower', 'weight'],\n",
    "    engine='python'\n",
    ")\n",
    "\n",
    "# Convert relevant columns to numeric types\n",
    "data['mpg'] = pd.to_numeric(data['mpg'], errors='coerce')\n",
    "data['cylinders'] = pd.to_numeric(data['cylinders'], errors='coerce')\n",
    "data['displacement'] = pd.to_numeric(data['displacement'], errors='coerce')\n",
    "data['horsepower'] = pd.to_numeric(data['horsepower'], errors='coerce')\n",
    "data['weight'] = pd.to_numeric(data['weight'], errors='coerce')\n",
    "\n",
    "# Select numeric columns\n",
    "numeric_data = data[['mpg', 'cylinders', 'displacement', 'horsepower', 'weight']]\n",
    "\n",
    "# Print the first rows of the numeric columns\n",
    "print(\"First rows of the numeric columns:\")\n",
    "print(numeric_data.head())\n",
    "\n",
    "# Calculate the Pearson correlation matrix\n",
    "correlation_matrix = numeric_data.corr()\n",
    "\n",
    "print(\"Pearson correlation matrix:\")\n",
    "print(correlation_matrix)\n",
    "\n",
    "# Define a threshold for high correlation\n",
    "threshold = 0.5  # Adjusted threshold to 0.5 for demonstration\n",
    "\n",
    "# Find feature pairs with correlation above the threshold\n",
    "highly_correlated_pairs = correlation_matrix[(correlation_matrix > threshold) & (correlation_matrix < 1.0)]\n",
    "\n",
    "# Drop NaN values\n",
    "highly_correlated_pairs = highly_correlated_pairs.dropna(how='all', axis=0).dropna(how='all', axis=1)\n",
    "\n",
    "if not highly_correlated_pairs.empty:\n",
    "    print(\"Highly correlated feature pairs with Pearson correlation above the threshold:\")\n",
    "    print(highly_correlated_pairs)\n",
    "else:\n",
    "    print(\"No feature pairs with Pearson correlation above the threshold.\")"
   ]
  }
 ],
 "metadata": {
  "kernelspec": {
   "display_name": "Python 3",
   "language": "python",
   "name": "python3"
  },
  "language_info": {
   "codemirror_mode": {
    "name": "ipython",
    "version": 3
   },
   "file_extension": ".py",
   "mimetype": "text/x-python",
   "name": "python",
   "nbconvert_exporter": "python",
   "pygments_lexer": "ipython3",
   "version": "3.12.1"
  }
 },
 "nbformat": 4,
 "nbformat_minor": 2
}
