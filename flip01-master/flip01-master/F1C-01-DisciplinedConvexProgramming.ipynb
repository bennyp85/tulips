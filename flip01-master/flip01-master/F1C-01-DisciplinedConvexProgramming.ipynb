{
 "cells": [
  {
   "cell_type": "markdown",
   "metadata": {},
   "source": [
    "# FLIP(01):  Advanced Data Science\n",
    "**(Module C: CVXPY)**\n",
    "\n",
    "---\n",
    "- Materials in this module include resources collected from various open-source online repositories.\n",
    "- You are free to use, but NOT allowed to change or distribute this package.\n",
    "- If you found any issue/bug for this document, please submit an issue at [tulip lab/flip01](https://github.com/tulip-lab/flip01/issues)\n",
    "\n",
    "\n",
    "Prepared by and for \n",
    "**Student Members** |\n",
    "2006-2022 [TULIP Lab](http://www.tulip.org.au)\n",
    "\n",
    "---\n",
    "\n",
    "\n",
    "# Session 01 - Disciplined Convex Programming"
   ]
  },
  {
   "cell_type": "markdown",
   "metadata": {},
   "source": [
    "Disciplined convex programming (DCP) is a system for constructing mathematical expressions with known curvature from a given library of base functions. CVXPY uses DCP to ensure that the specified optimization problems are convex.\n",
    "\n",
    "This section of the tutorial explains the rules of DCP and how they are applied by CVXPY.\n",
    "\n",
    "Visit dcp.stanford.edu for a more interactive introduction to DCP."
   ]
  },
  {
   "cell_type": "markdown",
   "metadata": {},
   "source": [
    "# Expressions\n",
    "Expressions in CVXPY are formed from variables, parameters, numerical constants such as Python floats and Numpy matrices, the standard arithmetic operators +, -, *, /, @, and a library of functions. Here are some examples of CVXPY expressions:"
   ]
  },
  {
   "cell_type": "code",
   "execution_count": null,
   "metadata": {},
   "outputs": [],
   "source": [
    "import cvxpy as cp\n",
    "from numpy import sqrt \n",
    "\n",
    "# Create variables and parameters.\n",
    "x, y = cp.Variable(), cp.Variable()\n",
    "a, b = cp.Parameter(), cp.Parameter()\n",
    "\n",
    "# Examples of CVXPY expressions.\n",
    "3.69 + b/3\n",
    "x - 4*a\n",
    "sqrt(x) - minimum(y, x - a)\n",
    "maximum(2.66 - sqrt(y), square(x + 2*y))"
   ]
  },
  {
   "cell_type": "markdown",
   "metadata": {},
   "source": [
    "Expressions can be scalars, vectors, or matrices. The dimensions of an expression are stored as expr.shape. The total number of entries is given by expr.size, while the number of dimensions is given by expr.ndim. CVXPY will raise an exception if an expression is used in a way that doesn’t make sense given its dimensions, for example adding matrices of different size. The semantics for how shapes behave under arithmetic operations are the same as for NumPy ndarrays (except some broadcasting is banned)."
   ]
  },
  {
   "cell_type": "code",
   "execution_count": null,
   "metadata": {},
   "outputs": [],
   "source": [
    "import numpy\n",
    "\n",
    "X = cp.Variable((5, 4))\n",
    "A = numpy.ones((3, 5))\n",
    "\n",
    "# Use expr.shape to get the dimensions.\n",
    "print(\"dimensions of X:\", X.shape)\n",
    "print(\"size of X:\", X.size)\n",
    "print(\"number of dimensions:\", X.ndim)\n",
    "print(\"dimensions of sum(X):\", cp.sum(X).shape)\n",
    "print(\"dimensions of A @ X:\", (A @ X).shape)\n",
    "\n",
    "# ValueError raised for invalid dimensions.\n",
    "# try:\n",
    "#     A + X\n",
    "# except ValueError, e:\n",
    "#     print(e)"
   ]
  },
  {
   "cell_type": "markdown",
   "metadata": {},
   "source": [
    "CVXPY uses DCP analysis to determine the sign and curvature of each expression.\n",
    "\n"
   ]
  },
  {
   "cell_type": "markdown",
   "metadata": {},
   "source": [
    "# Sign\n",
    "Each (sub)expression is flagged as positive (non-negative), negative (non-positive), zero, or unknown.\n",
    "\n",
    "The signs of larger expressions are determined from the signs of their subexpressions. For example, the sign of the expression expr1*expr2 is\n",
    "\n",
    "Zero if either expression has sign zero.\n",
    "\n",
    "Positive if expr1 and expr2 have the same (known) sign.\n",
    "\n",
    "Negative if expr1 and expr2 have opposite (known) signs.\n",
    "\n",
    "Unknown if either expression has unknown sign.\n",
    "\n",
    "The sign given to an expression is always correct. But DCP sign analysis may flag an expression as unknown sign when the sign could be figured out through more complex analysis. For instance, x*x is positive but has unknown sign by the rules above.\n",
    "\n",
    "CVXPY determines the sign of constants by looking at their value. For scalar constants, this is straightforward. Vector and matrix constants with all positive (negative) entries are marked as positive (negative). Vector and matrix constants with both positive and negative entries are marked as unknown sign.\n",
    "\n",
    "The sign of an expression is stored as expr.sign:"
   ]
  },
  {
   "cell_type": "code",
   "execution_count": null,
   "metadata": {},
   "outputs": [],
   "source": [
    "x = cp.Variable()\n",
    "a = cp.Parameter(nonpos=True)\n",
    "c = numpy.array([1, -1])\n",
    "\n",
    "print(\"sign of x:\", x.sign)\n",
    "print(\"sign of a:\", a.sign)\n",
    "print(\"sign of square(x):\", cp.square(x).sign)\n",
    "print(\"sign of c*a:\", (c*a).sign)"
   ]
  },
  {
   "cell_type": "markdown",
   "metadata": {},
   "source": [
    "# Curvature\n",
    "\n",
    "\n",
    "Each (sub)expression is flagged as one of the following curvatures (with respect to its variables)\n",
    "\n",
    "\n",
    "   | Curvature        | Meaning     |\n",
    "| --------   | -----:   |\n",
    "| constant        | f(x) independent of x     |\n",
    "| affine       | f(θx+(1−θ)y)=θf(x)+(1−θ)f(y),∀x,y,θ∈[0,1]      |\n",
    "| convex        | f(θx+(1−θ)y)≤θf(x)+(1−θ)f(y),∀x,y,θ∈[0,1]      |\n",
    "| concave       | f(θx+(1−θ)y)≥θf(x)+(1−θ)f(y),∀x,y,θ∈[0,1]      |\n",
    "| unknown       | DCP analysis cannot determine the curvature      |\n",
    "\n",
    "using the curvature rules given below. As with sign analysis, the conclusion is always correct, but the simple analysis can flag expressions as unknown even when they are convex or concave. Note that any constant expression is also affine, and any affine expression is convex and concave.\n",
    "\n"
   ]
  },
  {
   "cell_type": "markdown",
   "metadata": {},
   "source": [
    "Curvature rules\n",
    "DCP analysis is based on applying a general composition theorem from convex analysis to each (sub)expression.\n",
    "\n",
    "f(expr1,expr2,...,exprn) is convex if  f is a convex function and for each expri one of the following conditions holds:\n",
    "\n",
    "* f is increasing in argument i and expri is convex.\n",
    "\n",
    "* f is decreasing in argument i and expri is concave.\n",
    "\n",
    "expri is affine or constant.\n",
    "\n",
    "* f(expr1,expr2,...,exprn) is concave if  f is a concave function and for each expri one of the following conditions holds:\n",
    "\n",
    "* f is increasing in argument i and expri is concave.\n",
    "\n",
    "* f is decreasing in argument i and expri is convex.\n",
    "\n",
    "expri is affine or constant.\n",
    "\n",
    "f(expr1,expr2,...,exprn) is affine if  f is an affine function and each expri is affine.\n",
    "\n",
    "If none of the three rules apply, the expression f(expr1,expr2,...,exprn) is marked as having unknown curvature.\n",
    "\n",
    "Whether a function is increasing or decreasing in an argument may depend on the sign of the argument. For instance, square is increasing for positive arguments and decreasing for negative arguments."
   ]
  },
  {
   "cell_type": "markdown",
   "metadata": {},
   "source": [
    "The curvature of an expression is stored as expr.curvature:\n",
    "\n"
   ]
  },
  {
   "cell_type": "code",
   "execution_count": null,
   "metadata": {},
   "outputs": [],
   "source": [
    "x = cp.Variable()\n",
    "a = cp.Parameter(nonneg=True)\n",
    "\n",
    "print(\"curvature of x:\", x.curvature)\n",
    "print(\"curvature of a:\", a.curvature)\n",
    "print(\"curvature of square(x):\", cp.square(x).curvature)\n",
    "print(\"curvature of sqrt(x):\", cp.sqrt(x).curvature)"
   ]
  },
  {
   "cell_type": "markdown",
   "metadata": {},
   "source": [
    "# Infix operators\n",
    "The infix operators +, -, *, / and matrix multiplication @ are treated exactly like functions. The infix operators + and - are affine, so the rules above are used to flag the curvature. For example, expr1 + expr2 is flagged as convex if expr1 and expr2 are convex.\n",
    "\n",
    "expr1*expr2, expr1/expr2, and expr1@expr2 can only be DCP when one of the expressions is constant. The curvature rules above apply. For example, expr1/expr2 is convex when expr1 is concave and expr2 is negative and constant."
   ]
  },
  {
   "cell_type": "markdown",
   "metadata": {},
   "source": [
    "# DCP problems\n",
    "A problem is constructed from an objective and a list of constraints. If a problem follows the DCP rules, it is guaranteed to be convex and solvable by CVXPY. The DCP rules require that the problem objective have one of two forms:\n",
    "\n",
    "Minimize(convex)\n",
    "\n",
    "Maximize(concave)\n",
    "\n",
    "The only valid constraints under the DCP rules are\n",
    "\n",
    "affine == affine\n",
    "\n",
    "convex <= concave\n",
    "\n",
    "concave >= convex"
   ]
  },
  {
   "cell_type": "markdown",
   "metadata": {},
   "source": [
    "You can check that a problem, constraint, or objective satisfies the DCP rules by calling object.is_dcp(). Here are some examples of DCP and non-DCP problems:"
   ]
  },
  {
   "cell_type": "code",
   "execution_count": null,
   "metadata": {},
   "outputs": [],
   "source": [
    "x = cp.Variable()\n",
    "y = cp.Variable()\n",
    "\n",
    "# DCP problems.\n",
    "prob1 = cp.Problem(cp.Minimize(cp.square(x - y)),\n",
    "                    [x + y >= 0])\n",
    "prob2 = cp.Problem(cp.Maximize(cp.sqrt(x - y)),\n",
    "                [2*x - 3 == y,\n",
    "                 cp.square(x) <= 2])\n",
    "\n",
    "print(\"prob1 is DCP:\", prob1.is_dcp())\n",
    "print(\"prob2 is DCP:\", prob2.is_dcp())\n",
    "\n",
    "# Non-DCP problems.\n",
    "\n",
    "# A non-DCP objective.\n",
    "obj = cp.Maximize(cp.square(x))\n",
    "prob3 = cp.Problem(obj)\n",
    "\n",
    "print(\"prob3 is DCP:\", prob3.is_dcp())\n",
    "print(\"Maximize(square(x)) is DCP:\", obj.is_dcp())\n",
    "\n",
    "# A non-DCP constraint.\n",
    "prob4 = cp.Problem(cp.Minimize(cp.square(x)),\n",
    "                    [cp.sqrt(x) <= 2])\n",
    "\n",
    "print(\"prob4 is DCP:\", prob4.is_dcp())\n",
    "print(\"sqrt(x) <= 2 is DCP:\", (cp.sqrt(x) <= 2).is_dcp())"
   ]
  },
  {
   "cell_type": "markdown",
   "metadata": {},
   "source": [
    "CVXPY will raise an exception if you call problem.solve() on a non-DCP problem.\n",
    "\n"
   ]
  },
  {
   "cell_type": "code",
   "execution_count": null,
   "metadata": {},
   "outputs": [],
   "source": [
    "# A non-DCP problem.\n",
    "prob = cp.Problem(cp.Minimize(cp.sqrt(x)))\n",
    "\n",
    "try:\n",
    "    prob.solve()\n",
    "except Exception as e:\n",
    "    print(e)"
   ]
  }
 ],
 "metadata": {
  "interpreter": {
   "hash": "5d144f62e9831978dd32d748757bcd6bd89c540cf7746bbf6e19471a037bdab4"
  },
  "kernelspec": {
   "display_name": "Python 3.9.7 64-bit ('base': conda)",
   "language": "python",
   "name": "python3"
  },
  "language_info": {
   "codemirror_mode": {
    "name": "ipython",
    "version": 3
   },
   "file_extension": ".py",
   "mimetype": "text/x-python",
   "name": "python",
   "nbconvert_exporter": "python",
   "pygments_lexer": "ipython3",
   "version": "3.9.7"
  },
  "orig_nbformat": 4
 },
 "nbformat": 4,
 "nbformat_minor": 2
}
