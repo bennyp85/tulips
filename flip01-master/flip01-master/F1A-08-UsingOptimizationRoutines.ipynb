{
 "cells": [
  {
   "cell_type": "markdown",
   "metadata": {},
   "source": [
    "# Modern Data Science \n",
    "**(Module A: Pattern Classification)**\n",
    "\n",
    "---\n",
    "- Materials in this module include resources collected from various open-source online repositories.\n",
    "- You are free to use, change and distribute this package.\n",
    "- If you found any issue/bug for this document, please submit an issue at [tulip lab/flip01](https://github.com/tulip-lab/flip01/issues)\n",
    "\n",
    "\n",
    "Prepared by and for \n",
    "**Student Members** |\n",
    "2006-2022 [TULIP Lab](http://www.tulip.org.au), Australia\n",
    "\n",
    "---\n",
    "\n",
    "\n",
    "# Session I - Using optimization routines from scipy and statsmodels"
   ]
  },
  {
   "cell_type": "markdown",
   "metadata": {},
   "source": [
    "### Finding roots\n",
    "For root finding, we generally need to provide a starting point in the vicinity of the root. For iD root finding, this is often provided as a bracket (a, b) where a and b have opposite signs."
   ]
  },
  {
   "cell_type": "code",
   "execution_count": 1,
   "metadata": {},
   "outputs": [],
   "source": [
    "%matplotlib inline"
   ]
  },
  {
   "cell_type": "code",
   "execution_count": 2,
   "metadata": {},
   "outputs": [],
   "source": [
    "import scipy.linalg as la\n",
    "import numpy as np\n",
    "import scipy.optimize as opt\n",
    "import matplotlib.pyplot as plt\n",
    "import pandas as pd"
   ]
  },
  {
   "cell_type": "code",
   "execution_count": 3,
   "metadata": {},
   "outputs": [],
   "source": [
    "np.set_printoptions(precision=3, suppress=True)"
   ]
  },
  {
   "cell_type": "markdown",
   "metadata": {},
   "source": [
    "#### Univariate roots and fixed points"
   ]
  },
  {
   "cell_type": "code",
   "execution_count": 4,
   "metadata": {},
   "outputs": [],
   "source": [
    "def f(x):\n",
    "    return x**3-3*x+1"
   ]
  },
  {
   "cell_type": "code",
   "execution_count": 5,
   "metadata": {},
   "outputs": [
    {
     "data": {
      "image/png": "[encoded data removed]",
      "text/plain": [
       "<Figure size 432x288 with 1 Axes>"
      ]
     },
     "metadata": {
      "needs_background": "light"
     },
     "output_type": "display_data"
    }
   ],
   "source": [
    "x = np.linspace(-3,3,100)\n",
    "plt.axhline(0, c='red')\n",
    "plt.plot(x, f(x));"
   ]
  },
  {
   "cell_type": "code",
   "execution_count": 6,
   "metadata": {},
   "outputs": [],
   "source": [
    "from scipy.optimize import brentq, newton"
   ]
  },
  {
   "cell_type": "markdown",
   "metadata": {},
   "source": [
    "brentq is the recommended method"
   ]
  },
  {
   "cell_type": "code",
   "execution_count": 7,
   "metadata": {},
   "outputs": [
    {
     "data": {
      "text/plain": [
       "(-1.8793852415718166, 0.3472963553337031, 1.532088886237956)"
      ]
     },
     "execution_count": 7,
     "metadata": {},
     "output_type": "execute_result"
    }
   ],
   "source": [
    "brentq(f, -3, 0), brentq(f, 0, 1), brentq(f, 1,3)"
   ]
  },
  {
   "cell_type": "markdown",
   "metadata": {},
   "source": [
    "Secant method"
   ]
  },
  {
   "cell_type": "code",
   "execution_count": 8,
   "metadata": {},
   "outputs": [
    {
     "data": {
      "text/plain": [
       "(-1.8793852415718166, 0.34729635533385395, 1.5320888862379578)"
      ]
     },
     "execution_count": 8,
     "metadata": {},
     "output_type": "execute_result"
    }
   ],
   "source": [
    "newton(f, -3), newton(f, 0), newton(f, 3)"
   ]
  },
  {
   "cell_type": "markdown",
   "metadata": {},
   "source": [
    "Newton-Raphson method"
   ]
  },
  {
   "cell_type": "code",
   "execution_count": 9,
   "metadata": {},
   "outputs": [
    {
     "data": {
      "text/plain": [
       "(-1.8793852415718166, 0.34729635533386066, 1.532088886237956)"
      ]
     },
     "execution_count": 9,
     "metadata": {},
     "output_type": "execute_result"
    }
   ],
   "source": [
    "fprime = lambda x: 3*x**2 - 3\n",
    "newton(f, -3, fprime), newton(f, 0, fprime), newton(f, 3, fprime)"
   ]
  },
  {
   "cell_type": "markdown",
   "metadata": {},
   "source": [
    "Analytical solution using sympy to find roots of a polynomial"
   ]
  },
  {
   "cell_type": "code",
   "execution_count": 10,
   "metadata": {},
   "outputs": [],
   "source": [
    "from sympy import symbols, N, real_roots"
   ]
  },
  {
   "cell_type": "code",
   "execution_count": 11,
   "metadata": {},
   "outputs": [
    {
     "data": {
      "text/plain": [
       "[-1.87938524157182, 0.347296355333861, 1.53208888623796]"
      ]
     },
     "execution_count": 11,
     "metadata": {},
     "output_type": "execute_result"
    }
   ],
   "source": [
    "x = symbols('x', real=True)\n",
    "sol = real_roots(x**3 - 3*x + 1)\n",
    "list(map(N, sol))"
   ]
  },
  {
   "cell_type": "markdown",
   "metadata": {},
   "source": [
    "#### Finding fixed points\n",
    "\n",
    "Finding the fixed points of a function $g(x)=x$ is the same as finding the roots of $g(x)−x$. However, specialized algorithms also exist - e.g. using scipy.optimize.fixedpoint."
   ]
  },
  {
   "cell_type": "code",
   "execution_count": 12,
   "metadata": {},
   "outputs": [],
   "source": [
    "from scipy.optimize import fixed_point"
   ]
  },
  {
   "cell_type": "code",
   "execution_count": 13,
   "metadata": {},
   "outputs": [
    {
     "data": {
      "image/png": "[encoded data removed]",
      "text/plain": [
       "<Figure size 432x288 with 1 Axes>"
      ]
     },
     "metadata": {
      "needs_background": "light"
     },
     "output_type": "display_data"
    }
   ],
   "source": [
    "x = np.linspace(-3,3,100)\n",
    "plt.plot(x, f(x), color='red')\n",
    "plt.plot(x, x)\n",
    "pass"
   ]
  },
  {
   "cell_type": "code",
   "execution_count": 14,
   "metadata": {},
   "outputs": [
    {
     "data": {
      "text/plain": [
       "(array(0.254), array(-2.115), array(1.861))"
      ]
     },
     "execution_count": 14,
     "metadata": {},
     "output_type": "execute_result"
    }
   ],
   "source": [
    "fixed_point(f, 0), fixed_point(f, -3), fixed_point(f, 3)"
   ]
  },
  {
   "cell_type": "code",
   "execution_count": 15,
   "metadata": {},
   "outputs": [
    {
     "data": {
      "text/plain": [
       "(0.2541016883650525, -2.114907541476814, 1.860805853111706)"
      ]
     },
     "execution_count": 15,
     "metadata": {},
     "output_type": "execute_result"
    }
   ],
   "source": [
    "newton(lambda x: f(x) - x, 0), newton(lambda x: f(x) - x, -3), newton(lambda x: f(x) - x, 3)"
   ]
  },
  {
   "cell_type": "code",
   "execution_count": 16,
   "metadata": {},
   "outputs": [],
   "source": [
    "def f(x, r):\n",
    "    \"\"\"Discrete logistic equation.\"\"\"\n",
    "    return r*x*(1-x)"
   ]
  },
  {
   "cell_type": "code",
   "execution_count": 17,
   "metadata": {},
   "outputs": [
    {
     "data": {
      "image/png": "[encoded data removed]",
      "text/plain": [
       "<Figure size 432x288 with 1 Axes>"
      ]
     },
     "metadata": {
      "needs_background": "light"
     },
     "output_type": "display_data"
    }
   ],
   "source": [
    "n = 100\n",
    "fps = np.zeros(n)\n",
    "for i, r in enumerate(np.linspace(0, 4, n)):\n",
    "    fps[i] = fixed_point(f, 0.5, args=(r, ))\n",
    "\n",
    "plt.plot(np.linspace(0, 4, n), fps)\n",
    "plt.axis([0,4,-0.1, 1.1])\n",
    "pass"
   ]
  },
  {
   "cell_type": "markdown",
   "metadata": {},
   "source": [
    "##### Note that we don’t know anything about the stability of the fixed point\n",
    "\n",
    "Beyond $r=3$, the fixed point is unstable, even chaotic, but we would never know that just from the plot above."
   ]
  },
  {
   "cell_type": "code",
   "execution_count": 18,
   "metadata": {},
   "outputs": [
    {
     "data": {
      "image/png": "[encoded data removed]",
      "text/plain": [
       "<Figure size 432x288 with 1 Axes>"
      ]
     },
     "metadata": {
      "needs_background": "light"
     },
     "output_type": "display_data"
    }
   ],
   "source": [
    "xs = []\n",
    "for i, r in enumerate(np.linspace(0, 4, 400)):\n",
    "    x = 0.5\n",
    "    for j in range(10000):\n",
    "        x = f(x, r)\n",
    "    for j in range(50):\n",
    "        x = f(x, r)\n",
    "        xs.append((r, x))\n",
    "xs = np.array(xs)\n",
    "plt.scatter(xs[:,0], xs[:,1], s=1)\n",
    "plt.axis([0,4,-0.1, 1.1])\n",
    "pass"
   ]
  },
  {
   "cell_type": "markdown",
   "metadata": {},
   "source": [
    "### Mutlivariate roots and fixed points\n",
    "\n",
    "Use root to solve polynomial equations. Use fsolve for non-polynomial equations."
   ]
  },
  {
   "cell_type": "code",
   "execution_count": 19,
   "metadata": {},
   "outputs": [],
   "source": [
    "from scipy.optimize import root, fsolve"
   ]
  },
  {
   "cell_type": "markdown",
   "metadata": {},
   "source": [
    "Suppose we want to solve a sysetm of m equations with $n$ unknowns\n",
    "\n",
    "Note that the equations are non-linear and there can be multiple solutions. These can be interpreted as fixed points of a system of differential equations."
   ]
  },
  {
   "cell_type": "code",
   "execution_count": 20,
   "metadata": {},
   "outputs": [],
   "source": [
    "def f(x):\n",
    "    return [x[1] - 3*x[0]*(x[0]+1)*(x[0]-1),\n",
    "            .25*x[0]**2 + x[1]**2 - 1]"
   ]
  },
  {
   "cell_type": "code",
   "execution_count": 21,
   "metadata": {},
   "outputs": [
    {
     "data": {
      "text/plain": [
       "array([1.117, 0.83 ])"
      ]
     },
     "execution_count": 21,
     "metadata": {},
     "output_type": "execute_result"
    }
   ],
   "source": [
    "sol = root(f, (0.5, 0.5))\n",
    "sol.x"
   ]
  },
  {
   "cell_type": "code",
   "execution_count": 22,
   "metadata": {},
   "outputs": [
    {
     "data": {
      "text/plain": [
       "array([1.117, 0.83 ])"
      ]
     },
     "execution_count": 22,
     "metadata": {},
     "output_type": "execute_result"
    }
   ],
   "source": [
    "fsolve(f, (0.5, 0.5))"
   ]
  },
  {
   "cell_type": "code",
   "execution_count": 23,
   "metadata": {},
   "outputs": [],
   "source": [
    "r0 = opt.root(f,[1,1])\n",
    "r1 = opt.root(f,[0,1])\n",
    "r2 = opt.root(f,[-1,1.1])\n",
    "r3 = opt.root(f,[-1,-1])\n",
    "r4 = opt.root(f,[2,-0.5])\n",
    "\n",
    "roots = np.c_[r0.x, r1.x, r2.x, r3.x, r4.x]"
   ]
  },
  {
   "cell_type": "code",
   "execution_count": 24,
   "metadata": {},
   "outputs": [
    {
     "data": {
      "image/png": "[encoded data removed]",
      "text/plain": [
       "<Figure size 432x288 with 1 Axes>"
      ]
     },
     "metadata": {
      "needs_background": "light"
     },
     "output_type": "display_data"
    }
   ],
   "source": [
    "Y, X = np.mgrid[-3:3:100j, -3:3:100j]\n",
    "U = Y - 3*X*(X + 1)*(X-1)\n",
    "V = .25*X**2 + Y**2 - 1\n",
    "\n",
    "plt.streamplot(X, Y, U, V, color=U, linewidth=2, cmap=plt.cm.autumn)\n",
    "plt.scatter(roots[0], roots[1], s=50, c='none', edgecolors='k', linewidth=2)\n",
    "pass"
   ]
  },
  {
   "cell_type": "markdown",
   "metadata": {},
   "source": [
    "We can also give the jacobian"
   ]
  },
  {
   "cell_type": "code",
   "execution_count": 25,
   "metadata": {},
   "outputs": [],
   "source": [
    "def jac(x):\n",
    "    return [[-6*x[0], 1], [0.5*x[0], 2*x[1]]]"
   ]
  },
  {
   "cell_type": "code",
   "execution_count": 26,
   "metadata": {},
   "outputs": [
    {
     "data": {
      "text/plain": [
       "(array([1.117, 0.83 ]), array([-0., -0.]))"
      ]
     },
     "execution_count": 26,
     "metadata": {},
     "output_type": "execute_result"
    }
   ],
   "source": [
    "sol = root(f, (0.5, 0.5), jac=jac)\n",
    "sol.x, sol.fun"
   ]
  },
  {
   "cell_type": "code",
   "execution_count": 27,
   "metadata": {},
   "outputs": [
    {
     "data": {
      "text/plain": [
       "True"
      ]
     },
     "execution_count": 27,
     "metadata": {},
     "output_type": "execute_result"
    }
   ],
   "source": [
    "# Check that values found are really roots\n",
    "np.allclose(f(sol.x), 0)"
   ]
  },
  {
   "cell_type": "code",
   "execution_count": 28,
   "metadata": {},
   "outputs": [
    {
     "data": {
      "text/plain": [
       "array([ 0.778, -0.921])"
      ]
     },
     "execution_count": 28,
     "metadata": {},
     "output_type": "execute_result"
    }
   ],
   "source": [
    "# Starting from other initial conditions, different roots may be found\n",
    "sol = root(f, (12,12))\n",
    "sol.x"
   ]
  },
  {
   "cell_type": "code",
   "execution_count": 29,
   "metadata": {},
   "outputs": [
    {
     "data": {
      "text/plain": [
       "True"
      ]
     },
     "execution_count": 29,
     "metadata": {},
     "output_type": "execute_result"
    }
   ],
   "source": [
    "np.allclose(f(sol.x), 0)"
   ]
  },
  {
   "cell_type": "markdown",
   "metadata": {},
   "source": [
    "### Optimization Primer\n",
    "We will assume that our optimization problem is to minimize some univariate or multivariate function $f(x)$. This is without loss of generality, since to find the maximum, we can simply minimize $−f(x)$. We will also assume that we are dealing with multivariate or real-valued smooth functions - non-smooth or discrete functions (e.g. integer-valued) are outside the scope of this course.\n",
    "\n",
    "To find the minimum of a function, we first need to be able to express the function as a mathematical expresssion. For example, in least squares regression, the function that we are optimizing is of the form $y_i−f(x_i,θ)$ for some parameter(s) $θ$. To choose an appropirate optimization algorithm, we should at least answer these two questions if possible:\n",
    "\n",
    "      1.Is the function convex?\n",
    "      2.Are there any constraints that the solution must meet?\n",
    "\n",
    "Finally, we need to realize that optimization methods are nearly always designed to find local optima. For convex problems, there is only one minimum and so this is not a problem. However, if there are multiple local minima, often heuristics such as multiple random starts must be adopted to find a “good” enough solution."
   ]
  },
  {
   "cell_type": "markdown",
   "metadata": {},
   "source": [
    "##### Is the function convex?\n",
    "\n",
    "Convex functions are very nice because they have a single global minimum, and there are very efficient algorithms for solving large convex systems.\n",
    "\n",
    "Intuitively, a function is convex if every chord joining two points on the function lies above the function. More formally, a function is convex if\n",
    "$$ f(ta+(1−t)b)<tf(a)+(1−t)f(b) $$\n",
    "\n",
    "for some t between $0$ and $1$ - this is shown in the figure below."
   ]
  },
  {
   "cell_type": "code",
   "execution_count": 30,
   "metadata": {},
   "outputs": [
    {
     "data": {
      "image/png": "[encoded data removed]",
      "text/plain": [
       "<Figure size 432x288 with 1 Axes>"
      ]
     },
     "metadata": {},
     "output_type": "display_data"
    }
   ],
   "source": [
    "def f(x):\n",
    "    return (x-4)**2 + x + 1\n",
    "\n",
    "with plt.xkcd():\n",
    "    x = np.linspace(0, 10, 100)\n",
    "\n",
    "    plt.plot(x, f(x))\n",
    "    ymin, ymax = plt.ylim()\n",
    "    plt.axvline(2, ymin, f(2)/ymax, c='red')\n",
    "    plt.axvline(8, ymin, f(8)/ymax, c='red')\n",
    "    plt.scatter([4, 4], [f(4), f(2) + ((4-2)/(8-2.))*(f(8)-f(2))],\n",
    "                 edgecolor=['blue', 'red'], facecolor='none', s=100, linewidth=2)\n",
    "    plt.plot([2,8], [f(2), f(8)])\n",
    "    plt.xticks([2,4,8], ('a', 'ta + (1-t)b', 'b'), fontsize=20)\n",
    "    plt.text(0.2, 40, 'f(ta + (1-t)b) < tf(a) + (1-t)f(b)', fontsize=20)\n",
    "    plt.xlim([0,10])\n",
    "    plt.yticks([])\n",
    "    plt.suptitle('Convex function', fontsize=20)"
   ]
  },
  {
   "cell_type": "markdown",
   "metadata": {},
   "source": [
    "Warm up exercise\n",
    "\n",
    "Show that $f(x)=−log(x)$ is a convex function.\n",
    "Checking if a function is convex using the Hessian\n",
    "\n",
    "The formal definition is only useful for checking if a function is convex if you can find a counter-example. More practically, a twice differentiable function is convex if its Hessian is positive semi-definite, and strictly convex if the Hessian is positive definite.\n",
    "\n",
    "For example, suppose we want to minimize the scalar-valued function\n",
    "$$f(x_1,x_2,x_3)=x_2^1+2x_2^2+3x^2_3+2x_1x_2+2x_1x_3$$"
   ]
  },
  {
   "cell_type": "code",
   "execution_count": 30,
   "metadata": {},
   "outputs": [],
   "source": [
    "from sympy import symbols, hessian, Function, init_printing, expand, Matrix, diff\n",
    "x, y, z = symbols('x y z')\n",
    "f = symbols('f', cls=Function)\n",
    "init_printing()"
   ]
  },
  {
   "cell_type": "code",
   "execution_count": 31,
   "metadata": {},
   "outputs": [
    {
     "name": "stdout",
     "output_type": "stream",
     "text": [
      "x**2 + 2*x*y + 2*x*z + 2*y**2 + 3*z**2\n"
     ]
    }
   ],
   "source": [
    "f = x**2 + 2*y**2 + 3*z**2 + 2*x*y + 2*x*z\n",
    "print(f)"
   ]
  },
  {
   "cell_type": "code",
   "execution_count": 32,
   "metadata": {},
   "outputs": [
    {
     "name": "stdout",
     "output_type": "stream",
     "text": [
      "Matrix([[2, 2, 2], [2, 4, 0], [2, 0, 6]])\n"
     ]
    }
   ],
   "source": [
    "H = hessian(f, (x, y, z))\n",
    "print(H)"
   ]
  },
  {
   "cell_type": "code",
   "execution_count": 33,
   "metadata": {},
   "outputs": [
    {
     "data": {
      "text/plain": [
       "array([0.241, 7.064, 4.695])"
      ]
     },
     "execution_count": 33,
     "metadata": {},
     "output_type": "execute_result"
    }
   ],
   "source": [
    "np.real_if_close(la.eigvals(np.array(H).astype('float')))"
   ]
  },
  {
   "cell_type": "markdown",
   "metadata": {},
   "source": [
    "Since the matrix is symmetric and all eigenvalues are positive, the Hessian is positive defintie and the function is convex."
   ]
  },
  {
   "cell_type": "markdown",
   "metadata": {},
   "source": [
    "Combining convex functions\n",
    "\n",
    "The following rules may be useful to determine if more complex functions are convex:\n",
    "\n",
    "    1.The intersection of convex functions is convex\n",
    "    2.If the functions f and g are convex and a≥0 and b≥0 then the function af+bg is convex.\n",
    "    3.If the function U is convex and the function g is nondecreasing and convex then the function f defined by f(x)=g(U(x)) is convex."
   ]
  },
  {
   "cell_type": "markdown",
   "metadata": {},
   "source": [
    "\n",
    "##### Are there any constraints that the solution must meet?\n",
    "\n",
    "In general, optimization without constraints is easier to perform than optimization in the presence of constraints. The solutions may be very different in the presence or absence of constraints, so it is important to know if there are any constraints.\n",
    "\n",
    "We will see some examples of two general strategies: - convert a problem with constraints into one without constraints or - use an algorithm that can optimize with constraints.\n"
   ]
  },
  {
   "cell_type": "markdown",
   "metadata": {},
   "source": [
    "### Using scipy.optimize\n",
    "One of the most convenient libraries to use is scipy.optimize, since it is already part of the Anaconda installation and it has a fairly intuitive interface."
   ]
  },
  {
   "cell_type": "code",
   "execution_count": 34,
   "metadata": {},
   "outputs": [],
   "source": [
    "from scipy import optimize as opt"
   ]
  },
  {
   "cell_type": "code",
   "execution_count": 35,
   "metadata": {},
   "outputs": [],
   "source": [
    "def f(x):\n",
    "    return x**4 + 3*(x-2)**3 - 15*(x)**2 + 1"
   ]
  },
  {
   "cell_type": "code",
   "execution_count": 36,
   "metadata": {},
   "outputs": [
    {
     "data": {
      "image/png": "[encoded data removed]",
      "text/plain": [
       "<Figure size 432x288 with 1 Axes>"
      ]
     },
     "metadata": {
      "needs_background": "light"
     },
     "output_type": "display_data"
    }
   ],
   "source": [
    "x = np.linspace(-8, 5, 100)\n",
    "plt.plot(x, f(x));"
   ]
  },
  {
   "cell_type": "code",
   "execution_count": 37,
   "metadata": {},
   "outputs": [
    {
     "data": {
      "text/plain": [
       "     fun: -803.3955308825884\n",
       "    nfev: 17\n",
       "     nit: 11\n",
       " success: True\n",
       "       x: -5.528801125219663"
      ]
     },
     "execution_count": 37,
     "metadata": {},
     "output_type": "execute_result"
    }
   ],
   "source": [
    "opt.minimize_scalar(f, method='Brent')"
   ]
  },
  {
   "cell_type": "code",
   "execution_count": 38,
   "metadata": {},
   "outputs": [
    {
     "data": {
      "text/plain": [
       "     fun: -54.21003937712762\n",
       " message: 'Solution found.'\n",
       "    nfev: 12\n",
       "  status: 0\n",
       " success: True\n",
       "       x: 2.668865104039653"
      ]
     },
     "execution_count": 38,
     "metadata": {},
     "output_type": "execute_result"
    }
   ],
   "source": [
    "opt.minimize_scalar(f, method='bounded', bounds=[0, 6])"
   ]
  },
  {
   "cell_type": "markdown",
   "metadata": {},
   "source": [
    "##### Local and global minima"
   ]
  },
  {
   "cell_type": "code",
   "execution_count": 39,
   "metadata": {},
   "outputs": [],
   "source": [
    "def f(x, offset):\n",
    "    return -np.sinc(x-offset)"
   ]
  },
  {
   "cell_type": "code",
   "execution_count": 40,
   "metadata": {},
   "outputs": [
    {
     "data": {
      "image/png": "[encoded data removed]",
      "text/plain": [
       "<Figure size 432x288 with 1 Axes>"
      ]
     },
     "metadata": {
      "needs_background": "light"
     },
     "output_type": "display_data"
    }
   ],
   "source": [
    "x = np.linspace(-20, 20, 100)\n",
    "plt.plot(x, f(x, 5));"
   ]
  },
  {
   "cell_type": "code",
   "execution_count": 41,
   "metadata": {},
   "outputs": [
    {
     "data": {
      "text/plain": [
       "     fun: -0.049029624014074166\n",
       "    nfev: 15\n",
       "     nit: 10\n",
       " success: True\n",
       "       x: -1.4843871263953001"
      ]
     },
     "execution_count": 41,
     "metadata": {},
     "output_type": "execute_result"
    }
   ],
   "source": [
    "# note how additional function arguments are passed in\n",
    "sol = opt.minimize_scalar(f, args=(5,))\n",
    "sol"
   ]
  },
  {
   "cell_type": "code",
   "execution_count": 42,
   "metadata": {},
   "outputs": [
    {
     "data": {
      "image/png": "[encoded data removed]",
      "text/plain": [
       "<Figure size 432x288 with 1 Axes>"
      ]
     },
     "metadata": {
      "needs_background": "light"
     },
     "output_type": "display_data"
    }
   ],
   "source": [
    "plt.plot(x, f(x, 5))\n",
    "plt.axvline(sol.x, c='red')\n",
    "pass"
   ]
  },
  {
   "cell_type": "code",
   "execution_count": 43,
   "metadata": {},
   "outputs": [],
   "source": [
    "# We can try multiple random starts to find the global minimum\n",
    "lower = np.random.uniform(-20, 20, 100)\n",
    "upper = lower + 1\n",
    "sols = [opt.minimize_scalar(f, args=(5,), bracket=(l, u)) for (l, u) in zip(lower, upper)]"
   ]
  },
  {
   "cell_type": "code",
   "execution_count": 44,
   "metadata": {},
   "outputs": [],
   "source": [
    "idx = np.argmin([sol.fun for sol in sols])\n",
    "sol = sols[idx]"
   ]
  },
  {
   "cell_type": "code",
   "execution_count": 45,
   "metadata": {},
   "outputs": [
    {
     "data": {
      "image/png": "[encoded data removed]",
      "text/plain": [
       "<Figure size 432x288 with 1 Axes>"
      ]
     },
     "metadata": {
      "needs_background": "light"
     },
     "output_type": "display_data"
    }
   ],
   "source": [
    "plt.plot(x, f(x, 5))\n",
    "plt.axvline(sol.x, c='red');"
   ]
  },
  {
   "cell_type": "code",
   "execution_count": 46,
   "metadata": {},
   "outputs": [],
   "source": [
    "from scipy.optimize import basinhopping"
   ]
  },
  {
   "cell_type": "code",
   "execution_count": 47,
   "metadata": {},
   "outputs": [
    {
     "data": {
      "text/plain": [
       "                        fun: -0.07091345945046215\n",
       " lowest_optimization_result:       fun: -0.07091345945046215\n",
       " hess_inv: array([[1.429]])\n",
       "      jac: array([0.])\n",
       "  message: 'Optimization terminated successfully.'\n",
       "     nfev: 14\n",
       "      nit: 6\n",
       "     njev: 7\n",
       "   status: 0\n",
       "  success: True\n",
       "        x: array([0.523])\n",
       "                    message: ['requested number of basinhopping iterations completed successfully']\n",
       "      minimization_failures: 0\n",
       "                       nfev: 1422\n",
       "                        nit: 100\n",
       "                       njev: 711\n",
       "                          x: array([0.523])"
      ]
     },
     "execution_count": 47,
     "metadata": {},
     "output_type": "execute_result"
    }
   ],
   "source": [
    "x0 = 0\n",
    "sol = basinhopping(f, x0, stepsize=1, minimizer_kwargs={'args': (5,)})\n",
    "sol"
   ]
  },
  {
   "cell_type": "code",
   "execution_count": 48,
   "metadata": {},
   "outputs": [
    {
     "data": {
      "image/png": "[encoded data removed]",
      "text/plain": [
       "<Figure size 432x288 with 1 Axes>"
      ]
     },
     "metadata": {
      "needs_background": "light"
     },
     "output_type": "display_data"
    }
   ],
   "source": [
    "plt.plot(x, f(x, 5))\n",
    "plt.axvline(sol.x, c='red');"
   ]
  },
  {
   "cell_type": "markdown",
   "metadata": {},
   "source": [
    "Conditioning of optimization problem\n",
    "\n",
    "With these values for a\n",
    "and b, the problem is ill-conditioned. As we shall see, one of the factors affecting the ease of optimization is the condition number of the curvature (Hessian). When the condition number is high, the gradient may not point in the direction of the minimum, and simple gradient descent methods may be inefficient since they may be forced to take many sharp turns."
   ]
  },
  {
   "cell_type": "code",
   "execution_count": null,
   "metadata": {},
   "outputs": [],
   "source": [
    "from sympy import symbols, hessian, Function, N\n",
    "\n",
    "x, y = symbols('x y')\n",
    "f = symbols('f', cls=Function)\n",
    "\n",
    "f = 100*(y - x**2)**2 + (1 - x)**2\n",
    "\n",
    "H = hessian(f, [x, y]).subs([(x,1), (y,1)])\n",
    "H, N(H.condition_number())"
   ]
  },
  {
   "cell_type": "code",
   "execution_count": null,
   "metadata": {},
   "outputs": [],
   "source": [
    "# As pointed out in the previous lecture, the condition number is basically the ratio of largest to smallest eigenvalue of the Hessian\n",
    "import scipy.linalg as la\n",
    "\n",
    "mu = la.eigvals(np.array([802, -400, -400, 200]).reshape((2,2)))\n",
    "np.real_if_close(mu[0]/mu[1])"
   ]
  },
  {
   "cell_type": "code",
   "execution_count": null,
   "metadata": {
    "collapsed": true
   },
   "outputs": [],
   "source": [
    "def rosen(x):\n",
    "    \"\"\"Generalized n-dimensional version of the Rosenbrock function\"\"\"\n",
    "    return sum(100*(x[1:]-x[:-1]**2.0)**2.0 +(1-x[:-1])**2.0)"
   ]
  },
  {
   "cell_type": "code",
   "execution_count": null,
   "metadata": {
    "collapsed": true
   },
   "outputs": [],
   "source": [
    "# Why is the condition number so large?\n",
    "x = np.linspace(-5, 5, 100)\n",
    "y = np.linspace(-5, 5, 100)\n",
    "X, Y = np.meshgrid(x, y)\n",
    "Z = rosen(np.vstack([X.ravel(), Y.ravel()])).reshape((100,100))"
   ]
  },
  {
   "cell_type": "code",
   "execution_count": null,
   "metadata": {},
   "outputs": [],
   "source": [
    "# Note: the global minimum is at (1,1) in a tiny contour island\n",
    "plt.contour(X, Y, Z, np.arange(10)**5, cmap='jet')\n",
    "plt.text(1, 1, 'x', va='center', ha='center', color='red', fontsize=20);"
   ]
  },
  {
   "cell_type": "code",
   "execution_count": null,
   "metadata": {
    "collapsed": true
   },
   "outputs": [],
   "source": [
    "# Zooming in to the global minimum at (1,1)\n",
    "x = np.linspace(0, 2, 100)\n",
    "y = np.linspace(0, 2, 100)\n",
    "X, Y = np.meshgrid(x, y)\n",
    "Z = rosen(np.vstack([X.ravel(), Y.ravel()])).reshape((100,100))"
   ]
  },
  {
   "cell_type": "code",
   "execution_count": null,
   "metadata": {},
   "outputs": [],
   "source": [
    "plt.contour(X, Y, Z, [rosen(np.array([k, k])) for k in np.linspace(1, 1.5, 10)], cmap='jet')\n",
    "plt.text(1, 1, 'x', va='center', ha='center', color='red', fontsize=20);"
   ]
  },
  {
   "cell_type": "markdown",
   "metadata": {},
   "source": [
    "### Gradient descent\n",
    "The gradient (or Jacobian) at a point indicates the direction of steepest ascent. Since we are looking for a minimum, one obvious possibility is to take a step in the opposite direction to the gradient. We weight the size of the step by a factor $α$ known in the machine learning literature as the learning rate. If $α$ is small, the algorithm will eventually converge towards a local minimum, but it may take long time. If $α$ is large, the algorithm may converge faster, but it may also overshoot and never find the minimum. Gradient descent is also known as a first order method because it requires calculation of the first derivative at each iteration.\n",
    "\n",
    "Some algorithms also determine the appropriate value of $α$ at each stage by using a line search, i.e.,\n",
    "$$α^∗=argmin_αf(x_k−α∇f(x_k))$$\n",
    "\n",
    "which is a 1D optimization problem.\n",
    "\n",
    "As suggested above, the problem is that the gradient may not point towards the global minimum especially when the condition number is large, and we are forced to use a small $α$ for convergence.\n",
    "\n",
    "Let’s warm up by minimizing a trivial function $f(x,y)=x^2+y^2$ to illustrate the basic idea of gradient descent."
   ]
  },
  {
   "cell_type": "code",
   "execution_count": null,
   "metadata": {},
   "outputs": [],
   "source": [
    "def f(x):\n",
    "    return x[0]**2 + x[1]**2\n",
    "\n",
    "def grad(x):\n",
    "    return np.array([2*x[0], 2*x[1]])\n",
    "\n",
    "a = 0.1 # learning rate\n",
    "x0 = np.array([1.0,1.0])\n",
    "print('Start', x0)\n",
    "for i in range(41):\n",
    "    x0 -= a * grad(x0)\n",
    "    if i%5 == 0:\n",
    "        print(i, x0)"
   ]
  },
  {
   "cell_type": "markdown",
   "metadata": {},
   "source": [
    "#### Gradient descent for least squares minimization\n",
    "\n",
    "Usually, when we optimize, we are not just finding the minimum, but also want to know the parameters that give us the minimum. As a simple example, suppose we want to find parameters that minimize the least squares difference between a linear model and some data. Suppose we have some data $(0,1),(1,2),(2,3),(3,3.5),(4,6),(5,9),(6,8)$ and want to find a line $y=β_0+β_1x$ that is the best least squares fit. One way to do this is to solve $X^TXβ^^=X^Ty$, but we want to show how this can be formulated as a gradient descent problem.\n",
    "We want to find $β=(β_0,β_1)$ that minimize the squared differences\n",
    "$$r=∑(β_0+β_1x−y)^2$$"
   ]
  },
  {
   "cell_type": "code",
   "execution_count": null,
   "metadata": {
    "collapsed": true
   },
   "outputs": [],
   "source": [
    "def f(x, y, b):\n",
    "    \"\"\"Helper function.\"\"\"\n",
    "    return (b[0] + b[1]*x - y)\n",
    "\n",
    "def grad(x, y, b):\n",
    "    \"\"\"Gradient of objective function with respect to parameters b.\"\"\"\n",
    "    n = len(x)\n",
    "    return np.array([\n",
    "            sum(f(x, y, b)),\n",
    "            sum(x*f(x, y, b))\n",
    "    ])"
   ]
  },
  {
   "cell_type": "code",
   "execution_count": null,
   "metadata": {
    "collapsed": true
   },
   "outputs": [],
   "source": [
    "x, y = map(np.array, zip((0,1), (1,2), (2,3), (3,3.5), (4,6), (5,9), (6,8)))"
   ]
  },
  {
   "cell_type": "code",
   "execution_count": null,
   "metadata": {},
   "outputs": [],
   "source": [
    "a = 0.001 # learning rate\n",
    "b = np.zeros(2)\n",
    "for i in range(10000):\n",
    "    b -= a * grad(x, y, b)\n",
    "b"
   ]
  },
  {
   "cell_type": "code",
   "execution_count": null,
   "metadata": {},
   "outputs": [],
   "source": [
    "plt.scatter(x, y, s=30)\n",
    "plt.plot(x, b[0] + b[1]*x, color='red')\n",
    "pass"
   ]
  },
  {
   "cell_type": "markdown",
   "metadata": {},
   "source": [
    "### Gradient descent to minimize the Rosen function using scipy.optimize\n",
    "\n",
    "Because gradient descent is unreliable in practice, it is not part of the scipy optimize suite of functions, but we will write a custom function below to illustrate how to use gradient descent while maintaining the scipy.optimize interface."
   ]
  },
  {
   "cell_type": "code",
   "execution_count": null,
   "metadata": {
    "collapsed": true
   },
   "outputs": [],
   "source": [
    "def rosen_der(x):\n",
    "    \"\"\"Derivative of generalized Rosen function.\"\"\"\n",
    "    xm = x[1:-1]\n",
    "    xm_m1 = x[:-2]\n",
    "    xm_p1 = x[2:]\n",
    "    der = np.zeros_like(x)\n",
    "    der[1:-1] = 200*(xm-xm_m1**2) - 400*(xm_p1 - xm**2)*xm - 2*(1-xm)\n",
    "    der[0] = -400*x[0]*(x[1]-x[0]**2) - 2*(1-x[0])\n",
    "    der[-1] = 200*(x[-1]-x[-2]**2)\n",
    "    return der"
   ]
  },
  {
   "cell_type": "markdown",
   "metadata": {},
   "source": [
    "Warning One of the most common causes of failure of optimization is because the gradient or Hessian function is specified incorrectly. You can check for this using check_grad which compares the analytical gradient with one calculated using finite differences."
   ]
  },
  {
   "cell_type": "code",
   "execution_count": null,
   "metadata": {},
   "outputs": [],
   "source": [
    "from scipy.optimize import check_grad\n",
    "\n",
    "for x in np.random.uniform(-2,2,(10,2)):\n",
    "    print(x, check_grad(rosen, rosen_der, x))"
   ]
  },
  {
   "cell_type": "code",
   "execution_count": null,
   "metadata": {
    "collapsed": true
   },
   "outputs": [],
   "source": [
    "# Writing a custom function for the scipy.optimize interface.\n",
    "def custmin(fun, x0, args=(), maxfev=None, alpha=0.0002,\n",
    "        maxiter=100000, tol=1e-10, callback=None, **options):\n",
    "    \"\"\"Implements simple gradient descent for the Rosen function.\"\"\"\n",
    "    bestx = x0\n",
    "    bestf = fun(x0)\n",
    "    funcalls = 1\n",
    "    niter = 0\n",
    "    improved = True\n",
    "    stop = False\n",
    "\n",
    "    while improved and not stop and niter < maxiter:\n",
    "        niter += 1\n",
    "        # the next 2 lines are gradient descent\n",
    "        step = alpha * rosen_der(bestx)\n",
    "        bestx = bestx - step\n",
    "\n",
    "        bestf = fun(bestx)\n",
    "        funcalls += 1\n",
    "\n",
    "        if la.norm(step) < tol:\n",
    "            improved = False\n",
    "        if callback is not None:\n",
    "            callback(bestx)\n",
    "        if maxfev is not None and funcalls >= maxfev:\n",
    "            stop = True\n",
    "            break\n",
    "\n",
    "    return opt.OptimizeResult(fun=bestf, x=bestx, nit=niter,\n",
    "                              nfev=funcalls, success=(niter > 1))"
   ]
  },
  {
   "cell_type": "code",
   "execution_count": null,
   "metadata": {
    "collapsed": true
   },
   "outputs": [],
   "source": [
    "def reporter(p):\n",
    "    \"\"\"Reporter function to capture intermediate states of optimization.\"\"\"\n",
    "    global ps\n",
    "    ps.append(p)"
   ]
  },
  {
   "cell_type": "code",
   "execution_count": null,
   "metadata": {
    "collapsed": true
   },
   "outputs": [],
   "source": [
    "# Initial starting position\n",
    "x0 = np.array([4,-4.1])"
   ]
  },
  {
   "cell_type": "code",
   "execution_count": null,
   "metadata": {},
   "outputs": [],
   "source": [
    "ps = [x0]\n",
    "opt.minimize(rosen, x0, method=custmin, callback=reporter)"
   ]
  },
  {
   "cell_type": "code",
   "execution_count": null,
   "metadata": {
    "collapsed": true
   },
   "outputs": [],
   "source": [
    "x = np.linspace(-5, 5, 100)\n",
    "y = np.linspace(-5, 5, 100)\n",
    "X, Y = np.meshgrid(x, y)\n",
    "Z = rosen(np.vstack([X.ravel(), Y.ravel()])).reshape((100,100))"
   ]
  },
  {
   "cell_type": "code",
   "execution_count": null,
   "metadata": {},
   "outputs": [],
   "source": [
    "ps = np.array(ps)\n",
    "plt.figure(figsize=(12,4))\n",
    "plt.subplot(121)\n",
    "plt.contour(X, Y, Z, np.arange(10)**5, cmap='jet')\n",
    "plt.plot(ps[:, 0], ps[:, 1], '-ro')\n",
    "plt.subplot(122)\n",
    "plt.semilogy(range(len(ps)), rosen(ps.T));"
   ]
  },
  {
   "cell_type": "markdown",
   "metadata": {},
   "source": [
    "#### First order methods\n",
    "\n",
    "As calculating the Hessian is computationally expensive, sometimes first order methods that only use the first derivatives are preferred. Quasi-Newton methods use functions of the first derivatives to approximate the inverse Hessian. A well know example of the Quasi-Newoton class of algorithjms is BFGS, named after the initials of the creators. As usual, the first derivatives can either be provided via the jac= argument or approximated by finite difference methods."
   ]
  },
  {
   "cell_type": "code",
   "execution_count": null,
   "metadata": {},
   "outputs": [],
   "source": [
    "ps = [x0]\n",
    "opt.minimize(rosen, x0, method='BFGS', callback=reporter)"
   ]
  },
  {
   "cell_type": "code",
   "execution_count": null,
   "metadata": {},
   "outputs": [],
   "source": [
    "ps = np.array(ps)\n",
    "plt.figure(figsize=(12,4))\n",
    "plt.subplot(121)\n",
    "plt.contour(X, Y, Z, np.arange(10)**5, cmap='jet')\n",
    "plt.plot(ps[:, 0], ps[:, 1], '-ro')\n",
    "plt.subplot(122)\n",
    "plt.semilogy(range(len(ps)), rosen(ps.T));"
   ]
  },
  {
   "cell_type": "markdown",
   "metadata": {},
   "source": [
    "#### Second order methods\n",
    "\n",
    "Second order methods solve for H^−1 and so require calculation of the Hessian (either provided or approximated using finite differences). For efficiency reasons, the Hessian is not directly inverted, but solved for using a variety of methods such as conjugate gradient. An example of a second order method in the optimize package is Newton-GC."
   ]
  },
  {
   "cell_type": "code",
   "execution_count": null,
   "metadata": {
    "collapsed": true
   },
   "outputs": [],
   "source": [
    "from scipy.optimize import rosen, rosen_der, rosen_hess"
   ]
  },
  {
   "cell_type": "code",
   "execution_count": null,
   "metadata": {},
   "outputs": [],
   "source": [
    "ps = [x0]\n",
    "opt.minimize(rosen, x0, method='Newton-CG', jac=rosen_der, hess=rosen_hess, callback=reporter)"
   ]
  },
  {
   "cell_type": "code",
   "execution_count": null,
   "metadata": {},
   "outputs": [],
   "source": [
    "ps = np.array(ps)\n",
    "plt.figure(figsize=(12,4))\n",
    "plt.subplot(121)\n",
    "plt.contour(X, Y, Z, np.arange(10)**5, cmap='jet')\n",
    "plt.plot(ps[:, 0], ps[:, 1], '-ro')\n",
    "plt.subplot(122)\n",
    "plt.semilogy(range(len(ps)), rosen(ps.T));"
   ]
  },
  {
   "cell_type": "markdown",
   "metadata": {},
   "source": [
    "#### Zeroth order methods\n",
    "\n",
    "Finally, there are some optimization algorithms not based on the Newton method, but on other heuristic search strategies that do not require any derivatives, only function evaluations. One well-known example is the Nelder-Mead simplex algorithm."
   ]
  },
  {
   "cell_type": "code",
   "execution_count": null,
   "metadata": {},
   "outputs": [],
   "source": [
    "ps = [x0]\n",
    "opt.minimize(rosen, x0, method='nelder-mead', callback=reporter)"
   ]
  },
  {
   "cell_type": "code",
   "execution_count": null,
   "metadata": {},
   "outputs": [],
   "source": [
    "ps = np.array(ps)\n",
    "plt.figure(figsize=(12,4))\n",
    "plt.subplot(121)\n",
    "plt.contour(X, Y, Z, np.arange(10)**5, cmap='jet')\n",
    "plt.plot(ps[:, 0], ps[:, 1], '-ro')\n",
    "plt.subplot(122)\n",
    "plt.semilogy(range(len(ps)), rosen(ps.T));"
   ]
  },
  {
   "cell_type": "markdown",
   "metadata": {},
   "source": [
    "### Lagrange multipliers and constrained optimization\n",
    "Recall why Lagrange multipliers are useful for constrained optimization - a stationary point must be where the constraint surface $g$ touches a level set of the function $f$ (since the value of $f$ does not change on a level set). At that point, $f$ and $g$ are parallel, and hence their gradients are also parallel (since the gradient is normal to the level set). So we want to solve\n",
    "$$∇f=−λ∇g$$\n",
    "\n",
    "or equivalently,\n",
    "$$∇f+λ∇g=0$$"
   ]
  },
  {
   "cell_type": "markdown",
   "metadata": {},
   "source": [
    "#### Numerical example of using Lagrange multipliers\n",
    "\n",
    "Maximize $f(x,y,z)=xy+yz$ subject to the constraints $x+2y=6$ and $x−3z=0$\n",
    "\n",
    "We set up the equations\n",
    "$$F(x,y,z,λ,μ)=xy+yz−λ(x+2y−6)−μ(x−3z)$$"
   ]
  },
  {
   "cell_type": "code",
   "execution_count": null,
   "metadata": {
    "collapsed": true
   },
   "outputs": [],
   "source": [
    "A = np.array([\n",
    "    [0, 1, 0, -1, -1],\n",
    "    [1, 0, 1, -2, 0],\n",
    "    [0, 1, 0, 0, 3],\n",
    "    [1, 2, 0, 0, 0],\n",
    "    [1, 0,-3, 0, 0]])\n",
    "\n",
    "b = np.array([0,0,0,6,0])\n",
    "\n",
    "sol = la.solve(A, b)"
   ]
  },
  {
   "cell_type": "code",
   "execution_count": null,
   "metadata": {},
   "outputs": [],
   "source": [
    "sol"
   ]
  },
  {
   "cell_type": "code",
   "execution_count": null,
   "metadata": {
    "collapsed": true
   },
   "outputs": [],
   "source": [
    "def f(x, y, z):\n",
    "    return x*y + y*z"
   ]
  },
  {
   "cell_type": "code",
   "execution_count": null,
   "metadata": {},
   "outputs": [],
   "source": [
    "f(*sol[:3])"
   ]
  },
  {
   "cell_type": "markdown",
   "metadata": {},
   "source": [
    "### Check using scipy.optimize"
   ]
  },
  {
   "cell_type": "code",
   "execution_count": null,
   "metadata": {
    "collapsed": true
   },
   "outputs": [],
   "source": [
    "# Convert to minimization problem by negating function\n",
    "def f(x):\n",
    "    return -(x[0]*x[1] + x[1]*x[2])"
   ]
  },
  {
   "cell_type": "code",
   "execution_count": null,
   "metadata": {
    "collapsed": true
   },
   "outputs": [],
   "source": [
    "cons = ({'type': 'eq',\n",
    "         'fun' : lambda x: np.array([x[0] + 2*x[1] - 6, x[0] - 3*x[2]])})"
   ]
  },
  {
   "cell_type": "code",
   "execution_count": null,
   "metadata": {},
   "outputs": [],
   "source": [
    "x0 = np.array([2,2,0.67])\n",
    "cx = opt.minimize(f, x0, constraints=cons)\n",
    "cx"
   ]
  }
 ],
 "metadata": {
  "anaconda-cloud": {},
  "kernelspec": {
   "display_name": "Python 3 (ipykernel)",
   "language": "python",
   "name": "python3"
  },
  "language_info": {
   "codemirror_mode": {
    "name": "ipython",
    "version": 3
   },
   "file_extension": ".py",
   "mimetype": "text/x-python",
   "name": "python",
   "nbconvert_exporter": "python",
   "pygments_lexer": "ipython3",
   "version": "3.9.7"
  }
 },
 "nbformat": 4,
 "nbformat_minor": 1
}
